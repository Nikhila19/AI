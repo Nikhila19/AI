#clone YOLOv5 and
!git clone https://github.com/ultralytics/yolov5  # clone repo
%cd yolov5
%pip install -q roboflow

import torch
import os
from IPython.display import Image, clear_output  # to display images

print(f"Setup complete. Using torch {torch.__version__} ({torch.cuda.get_device_properties(0).name if torch.cuda.is_available() else 'CPU'})"
      
# --------------------

from google.colab import userdata
apikey = userdata.get("ROBOFLOW_API_KEY")

from roboflow import Roboflow
rf = Roboflow(api_key=apikey, model_format="yolov5", notebook="ultralytics")

project = rf.workspace("projekt").project("tablice-73he1")
dataset = project.version(5).download("yolov8")
# --------------------            
# choose a dataset or prepare one and load it
# train the model using T4 runtime; set to 20 epochs 
from google.colab import drive
import shutil
import os

model = YOLO('yolov8s.pt')  # Load the base model
# model.val(data="/content/Tablice-5/data.yaml")
results = model.train(data='/content/yolov5/Tablice-5/data.yaml', epochs=20, imgsz=640)  # Train the model

--------------------            
# mount google drive and save the trained model 
drive.mount('/content/drive')

# Save the trained model weights
source_path = '/content/runs/train/exp/weights/best.pt'
destination_path = '/content/drive/MyDrive/yolo_models/best.pt'
os.makedirs(os.path.dirname(destination_path), exist_ok=True)
shutil.copy(source_path, destination_path)
print(f"Model saved to: {destination_path}")

# Save the entire training results directory
source_dir = '/content/runs/train/exp'
destination_dir = '/content/drive/MyDrive/yolo_models/exp'
shutil.copytree(source_dir, destination_dir, dirs_exist_ok=True)
print(f"Training results saved to: {destination_dir}")

#save the data.yaml file
source_data_yaml = '/content/yolov5/Tablice-5/data.yaml'
destination_data_yaml = '/content/drive/MyDrive/yolo_models/Tablice-5/data.yaml'
shutil.copy(source_data_yaml, destination_data_yaml)
print(f"data.yaml saved to: {destination_data_yaml}")

--------------------            
# use the trained model for inference. the image is from a stock photo

!pip install ultralytics
from google.colab import drive
from google.colab.patches import cv2_imshow
from ultralytics import YOLO

import cv2
import numpy as np

# drive.mount('/content/drive') <-- drive was already mounted, but you have to do this if it isn't
model = YOLO('/content/drive/MyDrive/yolo_models/best.pt')

image_path = '/content/sample_data/car-4760008_1280.jpg'

image = cv2.imread(image_path)
image_rgb = cv2.cvtColor(image, cv2.COLOR_BGR2RGB)

results = model(image_rgb, iou=0.45, conf=0.5)

for r in results:
    boxes = r.boxes
    for box in boxes:
        x1, y1, x2, y2 = map(int, box.xyxy[0].tolist())
        class_id = int(box.cls[0].item())
        confidence = float(box.conf[0].item())
        print(f"Box: ({x1}, {y1}), ({x2}, {y2}), Class: {class_id}, Confidence: {confidence}")
        cv2.rectangle(image, (x1, y1), (x2, y2), (0, 255, 0), 2)
        cv2.putText(image, f'{class_id}:{confidence:.2f}', (x1, y1 - 10), cv2.FONT_HERSHEY_SIMPLEX, 0.9, (0, 255, 0), 2)

cv2_imshow(image) 
output_path = '/content/drive/MyDrive/inference_results/result.jpg'
cv2.imwrite(output_path, image)
